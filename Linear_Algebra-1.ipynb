{
 "cells": [
  {
   "cell_type": "markdown",
   "metadata": {},
   "source": [
    "Linear Algebra and Calculus"
   ]
  },
  {
   "cell_type": "code",
   "execution_count": null,
   "metadata": {
    "vscode": {
     "languageId": "latex"
    }
   },
   "outputs": [],
   "source": [
    "General notations\n",
    "\n",
    "Vector: a vector is a list of numbers, usually written vertically as a column or horizontally as a row. The numbers that make up the list are called the entries of the vector.\n",
    "\n",
    "Given a vector x with n entries, where each entry ∈ x^i ∈ R represents the i^th component of the vector, it can be represented as:\n",
    "\n",
    "X = [x1,x2,x3,...,xn] ∈ R^n"
   ]
  },
  {
   "cell_type": "code",
   "execution_count": null,
   "metadata": {
    "vscode": {
     "languageId": "latex"
    }
   },
   "outputs": [],
   "source": [
    "Matrix: a matrix is a rectangular array of numbers, usually written vertically as a column or horizontally as a row. The numbers that make up the list are called the entries of the matrix.\n",
    "\n",
    "For a matrix A with m rows and n columns, we denote A ∈ R^m×n. Each entry Ai,j ∈ R in the matrix represents the element located in the i^th row and j^th column. The matrix A can be expressed as:\n",
    "A = [A1,1,A1,2,...,A1,n\n",
    "     A2,1,A2,2,...,A2,n\n",
    "     ...\n",
    "     Am,1,Am,2,...,Am,n] ∈ R^m×n\n",
    "\n",
    "The vector x defined above can be considered as a n×1 matrix. It is specifically called a column vector and can be written as:\n",
    "\n",
    "X = [x1,x2,x3,...,xn] ∈ R^n×1"
   ]
  },
  {
   "cell_type": "code",
   "execution_count": null,
   "metadata": {
    "vscode": {
     "languageId": "latex"
    }
   },
   "outputs": [],
   "source": [
    "Identity matrix\n",
    "\n",
    "The identity matrix I ∈ R^n×n is a square matrix with ones on its main diagonal and zeroes everywhere else.\n",
    "\n",
    "The matrix I is represented as:\n",
    "\n",
    "I = [1,0,0,...,0\n",
    "     0,1,0,...,0\n",
    "     ...\n",
    "     0,0,0,...,1] ∈ R^n×n\n",
    "\n",
    "Remark: For all matrices A ∈ R^n×n, we have:\n",
    "\n",
    "A × I = I × A = A"
   ]
  },
  {
   "cell_type": "markdown",
   "metadata": {},
   "source": [
    "Matrix operations"
   ]
  },
  {
   "cell_type": "code",
   "execution_count": null,
   "metadata": {
    "vscode": {
     "languageId": "latex"
    }
   },
   "outputs": [],
   "source": [
    "Vector-vector multiplication- There are two types of vector-vector products:\n",
    "For the inner product of vectors x and y:\n",
    "Given x,y ∈ R^n the inner product is given by:\n",
    "\n",
    "x.y = x1y1 + x2y2 + x3y3 + ... + xnyn\n",
    "\n",
    "​This represents the summation of the products of corresponding elements of vectors x and y.\n",
    "\n",
    " "
   ]
  },
  {
   "cell_type": "code",
   "execution_count": null,
   "metadata": {
    "vscode": {
     "languageId": "latex"
    }
   },
   "outputs": [],
   "source": [
    "For the outer product of vectors x and y:\n",
    "Given x ∈ R^m and y ∈ R^n, the outer product is given by:\n",
    "\n",
    "x ⊗ y = xy^T\n",
    "\n",
    "Where:\n",
    "      x ⊗ y = [x1y1,x1y2,...,x1yn\n",
    "                x2y1,x2y2,...,x2yn\n",
    "                ...\n",
    "                xm,y1,...,xmn] \n",
    "This matrix is of size m×n and is formed by multiplying each element of x with each element of y."
   ]
  },
  {
   "cell_type": "code",
   "execution_count": null,
   "metadata": {
    "vscode": {
     "languageId": "latex"
    }
   },
   "outputs": [],
   "source": [
    "Matrix-vector multiplication:\n",
    "\n",
    "Given a matrix A ∈ R^m×n and a vector x ∈ R^n, the matrix-vector product is given by:\n",
    "if have a matrix A ∈ R^m×n and a vector x ∈ R^n, their multiplication will result in a vector of size R^m. The multiplication is defined as follows:\n",
    "\n",
    "y = A . x \n",
    "Here, y is the resulting vector y ∈ R^m and its i^th element can be computed using:\n",
    "\n",
    "yi = sum(Ai,j.xj) for j = 1 to n\n",
    "Where yi is the i^th element of vector y, Ai,j is the element of the matrix A located in the i^th row and j^th column, and xj\n",
    "​is the j^th element of vector x.\n",
    "\n"
   ]
  },
  {
   "cell_type": "code",
   "execution_count": null,
   "metadata": {
    "vscode": {
     "languageId": "latex"
    }
   },
   "outputs": [],
   "source": [
    "Matrix-matrix multiplication:\n",
    "\n",
    "Given matrices A ∈ R^m×n and B ∈ R^n×p, their product results in a matrix C ∈ R^m×p:\n",
    "C = A . B\n",
    "The element Cij ∈ R is given by:\n",
    "Ci,j = sum(Ai,k.Bk,j) for k = 1 to n\n",
    "Where Ci,j is the element of matrix C located in the i^th row and j^th column, Ai,k is the element of matrix A located in the i^th row and k^th column, and Bk,j is the element of matrix B located in the k^th row and j^th column."
   ]
  },
  {
   "cell_type": "code",
   "execution_count": null,
   "metadata": {
    "vscode": {
     "languageId": "latex"
    }
   },
   "outputs": [],
   "source": [
    "Transpose:\n",
    "\n",
    "Given a matrix A, its transpose, denoted A^T, is obtained by flipping the matrix over its diagonal. This switches its row and column indices.\n",
    "\n",
    "(A^T)j,i = Ai,j for all i and j\n",
    "\n",
    "if A is of size m×n, then A^T is of size n×m."
   ]
  },
  {
   "cell_type": "code",
   "execution_count": null,
   "metadata": {
    "vscode": {
     "languageId": "latex"
    }
   },
   "outputs": [],
   "source": [
    "Inverse:\n",
    "\n",
    "Given an invertible square matrix A, its inverse is denoted A^−1. The unique property of the inverse matrix is:\n",
    "\n",
    "A.A^−1 = A^−1.A = I\n",
    "\n",
    "Where I is the identity matrix of the same size as A."
   ]
  },
  {
   "cell_type": "markdown",
   "metadata": {},
   "source": [
    "Matrix calculus:"
   ]
  },
  {
   "cell_type": "code",
   "execution_count": null,
   "metadata": {
    "vscode": {
     "languageId": "latex"
    }
   },
   "outputs": [],
   "source": [
    "Gradient\n",
    "\n",
    "Given a function f:R^m×n → R and a matrix A ∈ R^m×n, the gradient of f with respect to A is a matrix of size m×n, denoted as ∇ Af(A). Each entry (i,j) of ∇ Af(A) corresponds to the partial derivative of f with respect to the (i,j)-th entry of A:\n",
    "\n",
    "[∇ Af(A)]i,j = ∂f(A) / ∂Ai,j\n",
    "\n",
    "This means the entry at the i-th row and j-th column of the gradient matrix represents how f changes as Ai,j changes, keeping all other entries of A constant.\n"
   ]
  },
  {
   "cell_type": "markdown",
   "metadata": {},
   "source": [
    "Matrix properties"
   ]
  },
  {
   "cell_type": "code",
   "execution_count": null,
   "metadata": {
    "vscode": {
     "languageId": "latex"
    }
   },
   "outputs": [],
   "source": [
    "Norm\n",
    "\n",
    "Given a vector space V, a norm is a function N:V→[0,+∞) that satisfies the following properties for all vectors x,y in \n",
    "V and scalar α:\n",
    "\n",
    "1- Non-negativity: N(x)≥0 and N(x)=0 if and only if x=0.\n",
    "2- Scalar multiplication: N(αx)=∣α∣N(x).\n",
    "3- Triangle inequality: N(x+y)≤N(x)+N(y).\n",
    "\n",
    "These conditions ensure that the function N behaves like a measure of \"length\" or \"size\" for vectors in V."
   ]
  },
  {
   "cell_type": "code",
   "execution_count": null,
   "metadata": {
    "vscode": {
     "languageId": "latex"
    }
   },
   "outputs": [],
   "source": [
    "Type of norms for vectors:\n",
    "\n",
    "1 - L¹ norm (Manhattan):\n",
    "||x||₁ = |x1| + |x2| + ... + |xn|\n",
    "\n",
    "2- L² norm (Euclidean):\n",
    "||x||₂ = √(|x1|² + |x2|² + ... + |xn|²)\n",
    "\n",
    "3- L∞ norm (Maximum):\n",
    "||x||∞ = max(|x1|,|x2|,...,|xn|)\n",
    "\n",
    "Type of norms for matrices:\n",
    "\n",
    "1- Frobenius norm:\n",
    "||A||F = √(sum(Ai,j²)) for i = 1 to m and j = 1 to n"
   ]
  }
 ],
 "metadata": {
  "kernelspec": {
   "display_name": "Python 3.8.8 ('base')",
   "language": "python",
   "name": "python3"
  },
  "language_info": {
   "name": "python",
   "version": "3.8.8"
  },
  "orig_nbformat": 4,
  "vscode": {
   "interpreter": {
    "hash": "40d3a090f54c6569ab1632332b64b2c03c39dcf918b08424e98f38b5ae0af88f"
   }
  }
 },
 "nbformat": 4,
 "nbformat_minor": 2
}
